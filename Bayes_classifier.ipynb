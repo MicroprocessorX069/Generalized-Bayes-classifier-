{
  "nbformat": 4,
  "nbformat_minor": 0,
  "metadata": {
    "colab": {
      "name": "Bayes classifier",
      "provenance": [],
      "include_colab_link": true
    },
    "kernelspec": {
      "name": "python3",
      "display_name": "Python 3"
    },
    "accelerator": "GPU"
  },
  "cells": [
    {
      "cell_type": "markdown",
      "metadata": {
        "id": "view-in-github",
        "colab_type": "text"
      },
      "source": [
        "<a href=\"https://colab.research.google.com/github/MicroprocessorX069/Generalized-Bayes-classifier-/blob/master/Bayes_classifier.ipynb\" target=\"_parent\"><img src=\"https://colab.research.google.com/assets/colab-badge.svg\" alt=\"Open In Colab\"/></a>"
      ]
    },
    {
      "cell_type": "code",
      "metadata": {
        "id": "6hvEHHcJUqMA",
        "colab_type": "code",
        "colab": {}
      },
      "source": [
        ""
      ],
      "execution_count": 0,
      "outputs": []
    },
    {
      "cell_type": "markdown",
      "metadata": {
        "id": "gMapRn6PWRh-",
        "colab_type": "text"
      },
      "source": [
        "## Blog\n",
        "\n",
        "To start with any program"
      ]
    },
    {
      "cell_type": "code",
      "metadata": {
        "id": "Sj2hL25hU6--",
        "colab_type": "code",
        "colab": {
          "base_uri": "https://localhost:8080/",
          "height": 34
        },
        "outputId": "3d4a0dd0-838f-450e-f583-70821ede9ab2"
      },
      "source": [
        "from google.colab import drive\n",
        "drive.mount('/content/drive')"
      ],
      "execution_count": 32,
      "outputs": [
        {
          "output_type": "stream",
          "text": [
            "Drive already mounted at /content/drive; to attempt to forcibly remount, call drive.mount(\"/content/drive\", force_remount=True).\n"
          ],
          "name": "stdout"
        }
      ]
    },
    {
      "cell_type": "markdown",
      "metadata": {
        "id": "JgbpEcA8V1YQ",
        "colab_type": "text"
      },
      "source": [
        "## imports"
      ]
    },
    {
      "cell_type": "code",
      "metadata": {
        "id": "byCkoIwltQvK",
        "colab_type": "code",
        "colab": {}
      },
      "source": [
        "def write_requirements(dict_libraries,dir=\"\"):\n",
        "  import os\n",
        "  requirements=\"\"\n",
        "  for library_name, library in dict_libraries.items():\n",
        "    requirements+=library_name+\"==\"+str(library.__version__)+\"\\n\"\n",
        "\n",
        "  text_file = open(os.path.join(dir,\"requirements.txt\"), \"w\")\n",
        "  n = text_file.write(requirements)\n",
        "  text_file.close()\n"
      ],
      "execution_count": 0,
      "outputs": []
    },
    {
      "cell_type": "code",
      "metadata": {
        "id": "9qqQnWJ_V23J",
        "colab_type": "code",
        "colab": {}
      },
      "source": [
        "libraries_dict={}\n",
        "import scipy.io\n",
        "libraries_dict[\"scipy\"]=scipy\n",
        "import numpy as np\n",
        "libraries_dict[\"numpy\"]=np\n",
        "import math \n",
        "\n",
        "\n",
        "write_requirements(libraries_dict)"
      ],
      "execution_count": 0,
      "outputs": []
    },
    {
      "cell_type": "markdown",
      "metadata": {
        "id": "sOP1Y47WVLe-",
        "colab_type": "text"
      },
      "source": [
        "#variables"
      ]
    },
    {
      "cell_type": "code",
      "metadata": {
        "id": "RGekRm3kVITt",
        "colab_type": "code",
        "colab": {}
      },
      "source": [
        "data_path=\"/content/drive/My Drive/Fall 2019/Probability EAS 595/Assignments/Questions/data.mat\"\n",
        "training_size=100\n",
        "variables={\"data_path\":data_path, \\\n",
        "           \"training_size\":training_size\n",
        "           }"
      ],
      "execution_count": 0,
      "outputs": []
    },
    {
      "cell_type": "markdown",
      "metadata": {
        "id": "-UzoNDFOVN4V",
        "colab_type": "text"
      },
      "source": [
        "## utils"
      ]
    },
    {
      "cell_type": "code",
      "metadata": {
        "id": "V9LY4qgbrPfT",
        "colab_type": "code",
        "colab": {
          "base_uri": "https://localhost:8080/",
          "height": 68
        },
        "outputId": "ca7b9888-a2c6-495a-e807-25afb35a1fc2"
      },
      "source": [
        "import numpy as np\n",
        "a=np.array([[1,2,3],[6,8,9],[187,567,234]])\n",
        "a-2.00000000000123"
      ],
      "execution_count": 54,
      "outputs": [
        {
          "output_type": "execute_result",
          "data": {
            "text/plain": [
              "array([[-1.00000000e+00, -1.23012711e-12,  1.00000000e+00],\n",
              "       [ 4.00000000e+00,  6.00000000e+00,  7.00000000e+00],\n",
              "       [ 1.85000000e+02,  5.65000000e+02,  2.32000000e+02]])"
            ]
          },
          "metadata": {
            "tags": []
          },
          "execution_count": 54
        }
      ]
    },
    {
      "cell_type": "code",
      "metadata": {
        "id": "W45ZzJof7Fta",
        "colab_type": "code",
        "colab": {
          "base_uri": "https://localhost:8080/",
          "height": 164
        },
        "outputId": "16f03b32-cf6f-4e60-e5a3-ca12a83f445a"
      },
      "source": [
        "[i+j for i in range(j) for j in range(2)]"
      ],
      "execution_count": 40,
      "outputs": [
        {
          "output_type": "error",
          "ename": "NameError",
          "evalue": "ignored",
          "traceback": [
            "\u001b[0;31m---------------------------------------------------------------------------\u001b[0m",
            "\u001b[0;31mNameError\u001b[0m                                 Traceback (most recent call last)",
            "\u001b[0;32m<ipython-input-40-7a08116ba6e9>\u001b[0m in \u001b[0;36m<module>\u001b[0;34m()\u001b[0m\n\u001b[0;32m----> 1\u001b[0;31m \u001b[0;34m[\u001b[0m\u001b[0mi\u001b[0m\u001b[0;34m+\u001b[0m\u001b[0mj\u001b[0m \u001b[0;32mfor\u001b[0m \u001b[0mi\u001b[0m \u001b[0;32min\u001b[0m \u001b[0mrange\u001b[0m\u001b[0;34m(\u001b[0m\u001b[0mj\u001b[0m\u001b[0;34m)\u001b[0m \u001b[0;32mfor\u001b[0m \u001b[0mj\u001b[0m \u001b[0;32min\u001b[0m \u001b[0mrange\u001b[0m\u001b[0;34m(\u001b[0m\u001b[0;36m2\u001b[0m\u001b[0;34m)\u001b[0m\u001b[0;34m]\u001b[0m\u001b[0;34m\u001b[0m\u001b[0;34m\u001b[0m\u001b[0m\n\u001b[0m",
            "\u001b[0;31mNameError\u001b[0m: name 'j' is not defined"
          ]
        }
      ]
    },
    {
      "cell_type": "code",
      "metadata": {
        "id": "sIxtrX3M9Be_",
        "colab_type": "code",
        "colab": {}
      },
      "source": [
        ""
      ],
      "execution_count": 0,
      "outputs": []
    },
    {
      "cell_type": "code",
      "metadata": {
        "id": "jpl-LGzUVM7m",
        "colab_type": "code",
        "colab": {}
      },
      "source": [
        "#Return a numpy arrary of the matrix\n",
        "def read_mat_file(file_dir):\n",
        "  data = scipy.io.loadmat(file_dir)\n",
        "  return data\n",
        "def get_normal_prob(mean, std_dev, test):\n",
        "    #mean,std_dev=float(mean),float(mean)\n",
        "    prob = test - mean\n",
        "    prob = np.multiply(prob,prob)\n",
        "    prob = -1 * prob / (2 * np.multiply(std_dev,std_dev))\n",
        "    prob = np.exp(prob)\n",
        "    prob = prob/(math.sqrt(math.pi*2)*std_dev)\n",
        "    prob = np.prod(prob, axis = 1)\n",
        "    return prob\n",
        "\n",
        "def predict(variables):\n",
        "  # Outputs the class predicted\n",
        "  prob=[get_normal_prob(variables['m_std_train']['f1'][i]['m'], variables['m_std_train']['f1'][i]['std'], variables['test_data']) for i in range(5)]\n",
        "  \n",
        "  print(len(prob))\n",
        "\n",
        "\n",
        "def get_mean_std(array):\n",
        "  # m: mean ; std: standard deviation\n",
        "  dict={'m':np.mean(array),'std':np.std(array)}\n",
        "  return dict\n",
        "\n",
        "\n",
        "def main(variables):\n",
        "  data=read_mat_file(variables[\"data_path\"])\n",
        "  f1_data,f2_data=np.array(data['F1']),np.array(data['F2'])\n",
        "\n",
        "  # Training\n",
        "\n",
        "  #Training on 100 samples\n",
        "  #m_std is dictionary of f1, f2 for each column, c1 c2 c3 c4 and c5.\n",
        "  train_size=variables['training_size']\n",
        "  variables['m_std_train']={'f1':{0:get_mean_std(f1_data[:train_size,0]), \n",
        "               1:get_mean_std(f1_data[:train_size,1]), \n",
        "               2:get_mean_std(f1_data[:train_size,2]),   \n",
        "               3:get_mean_std(f1_data[:train_size,3]), \n",
        "               4:get_mean_std(f1_data[:train_size,4])}, \n",
        "         'f2':{0:get_mean_std(f2_data[:train_size,0]), \n",
        "               1:get_mean_std(f2_data[:train_size,1]), \n",
        "               2:get_mean_std(f2_data[:train_size,2]),   \n",
        "               3:get_mean_std(f2_data[:train_size,3]), \n",
        "               4:get_mean_std(f2_data[:train_size,4])}}\n",
        "    \n",
        "  # Testing\n",
        "  variables['test_data']=f1_data[100:]\n",
        "  predict(variables)\n",
        "\n",
        "  \n",
        "\n",
        "\n",
        "\n"
      ],
      "execution_count": 0,
      "outputs": []
    },
    {
      "cell_type": "markdown",
      "metadata": {
        "id": "U6tQE331VQo3",
        "colab_type": "text"
      },
      "source": [
        "## main"
      ]
    },
    {
      "cell_type": "code",
      "metadata": {
        "id": "5OPaKqg-VTrs",
        "colab_type": "code",
        "colab": {
          "base_uri": "https://localhost:8080/",
          "height": 34
        },
        "outputId": "2e1be63f-5d90-42b8-9d8e-8c1d697c99ee"
      },
      "source": [
        "# read file\n",
        "main(variables)"
      ],
      "execution_count": 70,
      "outputs": [
        {
          "output_type": "stream",
          "text": [
            "5\n"
          ],
          "name": "stdout"
        }
      ]
    }
  ]
}