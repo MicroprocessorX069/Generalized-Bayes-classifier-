{
  "nbformat": 4,
  "nbformat_minor": 0,
  "metadata": {
    "colab": {
      "name": "Bayes classifier",
      "provenance": [],
      "include_colab_link": true
    },
    "kernelspec": {
      "name": "python3",
      "display_name": "Python 3"
    },
    "accelerator": "GPU"
  },
  "cells": [
    {
      "cell_type": "markdown",
      "metadata": {
        "id": "view-in-github",
        "colab_type": "text"
      },
      "source": [
        "<a href=\"https://colab.research.google.com/github/MicroprocessorX069/Generalized-Bayes-classifier-/blob/master/Bayes_classifier.ipynb\" target=\"_parent\"><img src=\"https://colab.research.google.com/assets/colab-badge.svg\" alt=\"Open In Colab\"/></a>"
      ]
    },
    {
      "cell_type": "code",
      "metadata": {
        "id": "6hvEHHcJUqMA",
        "colab_type": "code",
        "colab": {}
      },
      "source": [
        ""
      ],
      "execution_count": 0,
      "outputs": []
    },
    {
      "cell_type": "markdown",
      "metadata": {
        "id": "gMapRn6PWRh-",
        "colab_type": "text"
      },
      "source": [
        "## Blog\n",
        "\n",
        "To start with any program"
      ]
    },
    {
      "cell_type": "code",
      "metadata": {
        "id": "Sj2hL25hU6--",
        "colab_type": "code",
        "colab": {
          "base_uri": "https://localhost:8080/",
          "height": 122
        },
        "outputId": "5d7ba83f-5ad1-463a-b04e-05773e5f41cc"
      },
      "source": [
        "from google.colab import drive\n",
        "drive.mount('/content/drive')"
      ],
      "execution_count": 1,
      "outputs": [
        {
          "output_type": "stream",
          "text": [
            "Go to this URL in a browser: https://accounts.google.com/o/oauth2/auth?client_id=947318989803-6bn6qk8qdgf4n4g3pfee6491hc0brc4i.apps.googleusercontent.com&redirect_uri=urn%3aietf%3awg%3aoauth%3a2.0%3aoob&response_type=code&scope=email%20https%3a%2f%2fwww.googleapis.com%2fauth%2fdocs.test%20https%3a%2f%2fwww.googleapis.com%2fauth%2fdrive%20https%3a%2f%2fwww.googleapis.com%2fauth%2fdrive.photos.readonly%20https%3a%2f%2fwww.googleapis.com%2fauth%2fpeopleapi.readonly\n",
            "\n",
            "Enter your authorization code:\n",
            "··········\n",
            "Mounted at /content/drive\n"
          ],
          "name": "stdout"
        }
      ]
    },
    {
      "cell_type": "markdown",
      "metadata": {
        "id": "JgbpEcA8V1YQ",
        "colab_type": "text"
      },
      "source": [
        "## imports"
      ]
    },
    {
      "cell_type": "code",
      "metadata": {
        "id": "9qqQnWJ_V23J",
        "colab_type": "code",
        "colab": {}
      },
      "source": [
        "libraries_dict={}\n",
        "import scipy.io\n",
        "libraries_dict[\"scipy\"]=scipy\n",
        "import numpy as np\n",
        "libraries_dict[\"numpy\"]=np\n",
        "\n",
        "write_requirements(libraries_dict)"
      ],
      "execution_count": 0,
      "outputs": []
    },
    {
      "cell_type": "code",
      "metadata": {
        "id": "-v-wcJOOamXM",
        "colab_type": "code",
        "colab": {}
      },
      "source": [
        "def write_requirements(dict_libraries,dir=\"\"):\n",
        "  import os\n",
        "  requirements=\"\"\n",
        "  for library_name, library in dict_libraries.items():\n",
        "    requirements+=library_name+\"==\"+str(library.__version__)+\"\\n\"\n",
        "\n",
        "  text_file = open(os.path.join(dir,\"requirements.txt\"), \"w\")\n",
        "  n = text_file.write(requirements)\n",
        "  text_file.close()\n"
      ],
      "execution_count": 0,
      "outputs": []
    },
    {
      "cell_type": "markdown",
      "metadata": {
        "id": "sOP1Y47WVLe-",
        "colab_type": "text"
      },
      "source": [
        "#variables"
      ]
    },
    {
      "cell_type": "code",
      "metadata": {
        "id": "RGekRm3kVITt",
        "colab_type": "code",
        "colab": {}
      },
      "source": [
        "data_path=\"/content/drive/My Drive/Fall 2019/Probability EAS 595/Assignments/Questions/data.mat\"\n",
        "variables={\"data_path\":data_path, \\\n",
        "           \n",
        "           }"
      ],
      "execution_count": 0,
      "outputs": []
    },
    {
      "cell_type": "markdown",
      "metadata": {
        "id": "-UzoNDFOVN4V",
        "colab_type": "text"
      },
      "source": [
        "## utils"
      ]
    },
    {
      "cell_type": "code",
      "metadata": {
        "id": "jpl-LGzUVM7m",
        "colab_type": "code",
        "colab": {}
      },
      "source": [
        "#Return a numpy arrary of the matrix\n",
        "def read_mat_file(file_dir):\n",
        "  mat = scipy.io.loadmat(file_dir)\n",
        "  return data\n",
        "def main(variables):\n",
        "  data=read_mat_file(variables[\"data_path\"])\n",
        "  \n",
        "\n",
        "  print(data)"
      ],
      "execution_count": 0,
      "outputs": []
    },
    {
      "cell_type": "markdown",
      "metadata": {
        "id": "U6tQE331VQo3",
        "colab_type": "text"
      },
      "source": [
        "## main"
      ]
    },
    {
      "cell_type": "code",
      "metadata": {
        "id": "5OPaKqg-VTrs",
        "colab_type": "code",
        "colab": {
          "base_uri": "https://localhost:8080/",
          "height": 258
        },
        "outputId": "7afd44d5-7b4b-45dd-e925-abf6dac4fa82"
      },
      "source": [
        "# read file\n",
        "main(variables)"
      ],
      "execution_count": 14,
      "outputs": [
        {
          "output_type": "stream",
          "text": [
            "{'__header__': b'MATLAB 5.0 MAT-file, Platform: PCWIN64, Created on: Wed Dec  5 18:00:48 2018', '__version__': '1.0', '__globals__': [], 'F1': array([[ 7.90543045,  9.03548961,  4.53489091, 14.16683497, 11.88347036],\n",
            "       [ 6.60370731, 10.29896573,  1.99880063, 12.68755326, 10.39232245],\n",
            "       [ 6.10896036,  7.10180666,  3.6290366 , 12.60627281, 12.20593245],\n",
            "       ...,\n",
            "       [ 5.51959563,  8.05812131,  3.20857723, 12.48202388, 11.01627179],\n",
            "       [ 9.37874365, 10.00443538,  8.05460477, 14.75110443, 13.04608571],\n",
            "       [ 3.1119946 ,  5.33038517, -0.76241982, 10.70181844,  6.50224691]]), 'F2': array([[1.15552173, 5.97631978, 1.16612037, 3.40406767, 1.21352697],\n",
            "       [1.39738885, 6.12634738, 2.70301481, 3.19363103, 0.44655667],\n",
            "       [1.64427344, 4.05758523, 1.85129124, 2.4391763 , 0.51799572],\n",
            "       ...,\n",
            "       [1.77629716, 6.43822583, 1.76304902, 2.44898151, 0.82978268],\n",
            "       [1.82399817, 5.27738683, 1.37666548, 2.73968526, 0.10886404],\n",
            "       [1.32098527, 4.73801579, 1.7968828 , 3.08891109, 1.34318218]])}\n"
          ],
          "name": "stdout"
        }
      ]
    }
  ]
}